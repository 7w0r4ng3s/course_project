{
 "cells": [
  {
   "cell_type": "code",
   "execution_count": 1,
   "metadata": {},
   "outputs": [],
   "source": [
    "import os\n",
    "import pandas as pd\n",
    "import csv"
   ]
  },
  {
   "cell_type": "code",
   "execution_count": 4,
   "metadata": {},
   "outputs": [],
   "source": [
    "df_lower = pd.read_csv('courses/cmps/lower_div.csv', header=None)\n",
    "df_upper = pd.read_csv('courses/cmps/upper_div.csv', header=None)\n",
    "df_grad = pd.read_csv('courses/cmps/graduate.csv', header=None)"
   ]
  },
  {
   "cell_type": "code",
   "execution_count": 5,
   "metadata": {},
   "outputs": [],
   "source": [
    "df_lower.columns, df_upper.columns, df_grad.columns = ['Title', 'Description'], ['Title', 'Description'], ['Title', 'Description']"
   ]
  },
  {
   "cell_type": "code",
   "execution_count": 6,
   "metadata": {},
   "outputs": [],
   "source": [
    "lower_title = list(df_lower['Title'])\n",
    "upper_title = list(df_upper['Title'])\n",
    "grad_title = list(df_grad['Title'])"
   ]
  },
  {
   "cell_type": "code",
   "execution_count": 7,
   "metadata": {},
   "outputs": [],
   "source": [
    "lower_num = [lower_title[i][:lower_title[i].find('.')] for i in range(len(lower_title))]\n",
    "upper_num = [upper_title[i][:upper_title[i].find('.')] for i in range(len(upper_title))]\n",
    "grad_num = [grad_title[i][:grad_title[i].find('.')] for i in range(len(grad_title))]\n",
    "\n",
    "lower_name = [lower_title[i][lower_title[i].find(' '):].lstrip() for i in range(len(lower_title))]\n",
    "upper_name = [upper_title[i][upper_title[i].find(' '):].lstrip() for i in range(len(upper_title))]\n",
    "grad_name = [grad_title[i][grad_title[i].find(' '):].lstrip() for i in range(len(grad_title))]\n",
    "\n",
    "lower_des = list(df_lower['Description'])\n",
    "upper_des = list(df_upper['Description'])\n",
    "grad_des = list(df_grad['Description'])"
   ]
  },
  {
   "cell_type": "code",
   "execution_count": 12,
   "metadata": {},
   "outputs": [
    {
     "data": {
      "text/plain": [
       "'/Users/7w0r4ng3s/Desktop/projs/course_project'"
      ]
     },
     "execution_count": 12,
     "metadata": {},
     "output_type": "execute_result"
    }
   ],
   "source": []
  },
  {
   "cell_type": "code",
   "execution_count": 15,
   "metadata": {},
   "outputs": [],
   "source": [
    "def courses_taken():\n",
    "    taken = []\n",
    "    taken_nums = input('Enter the course numbers of all CS course you took (letters in capital, i.e. 12A):\\n').split(' ')\n",
    "    print('You\\'ve taken:')\n",
    "    for i in taken_nums:\n",
    "        if i in lower_num:\n",
    "            tmp = 'CMPS ' + i + ' ' + lower_name[lower_num.index(i)]\n",
    "            print(tmp)\n",
    "            taken.append(tmp)\n",
    "        elif i in upper_num:\n",
    "            tmp = 'CMPS ' + i + ' ' + upper_name[upper_num.index(i)]\n",
    "            print(tmp)\n",
    "            taken.append(tmp)\n",
    "        elif i in grad_num:\n",
    "            tmp = 'CMPS ' + i + ' ' + grad_name[grad_num.index(i)]\n",
    "            print(tmp)\n",
    "            taken.append(tmp)\n",
    "        else:\n",
    "            print('Invalid course number: ' + i)\n",
    "    \n",
    "    os.chdir(os.path.dirname(os.getcwd()) + '/my_courses')\n",
    "    with open('courses_taken.csv', 'w') as csv_file:\n",
    "        writer = csv.writer(csv_file)\n",
    "        for i in taken:\n",
    "            writer.writerow([i,])"
   ]
  },
  {
   "cell_type": "code",
   "execution_count": null,
   "metadata": {},
   "outputs": [],
   "source": [
    "def current_courses():\n",
    "    "
   ]
  },
  {
   "cell_type": "code",
   "execution_count": null,
   "metadata": {},
   "outputs": [],
   "source": [
    "def course_search():\n",
    "    print('Course Search')\n",
    "    num = input('Enter the course number: ')\n",
    "    print()\n",
    "    print()\n",
    "    if num in lower_num:\n",
    "        print('CMPS ' + num + ' ' + lower_name[lower_num.index(num)])\n",
    "        print('Lower Division')\n",
    "        print()\n",
    "        print(lower_des[lower_num.index(num)])\n",
    "    elif num in upper_num:\n",
    "        print('CMPS ' + num + ' ' + upper_name[upper_num.index(num)])\n",
    "        print('Upper Division')\n",
    "        print()\n",
    "        print(upper_des[upper_num.index(num)])\n",
    "    elif num in grad_num:\n",
    "        print('CMPS ' + num + ' ' + grad_name[grad_num.index(num)])\n",
    "        print('Graduate')\n",
    "        print()\n",
    "        print(grad_num[grad_num.index(num)])"
   ]
  },
  {
   "cell_type": "code",
   "execution_count": null,
   "metadata": {},
   "outputs": [],
   "source": [
    "course_search()"
   ]
  },
  {
   "cell_type": "code",
   "execution_count": 16,
   "metadata": {},
   "outputs": [
    {
     "name": "stdout",
     "output_type": "stream",
     "text": [
      "Enter the course numbers of all CS course you took (letters in capital, i.e. 12A):\n",
      "12A 12B 12L 12M\n",
      "You've taken:\n",
      "CMPS 12A Introduction to Programming (Accelerated). F,W,S\n",
      "CMPS 12B Introduction to Data Structures. F,W,S\n",
      "CMPS 12L Computer Programming Laboratory (2 credits). F,W,S\n",
      "CMPS 12M Data Structures Laboratory (2 credits). F,W,S\n"
     ]
    }
   ],
   "source": [
    "courses_taken()"
   ]
  },
  {
   "cell_type": "code",
   "execution_count": null,
   "metadata": {},
   "outputs": [],
   "source": []
  }
 ],
 "metadata": {
  "kernelspec": {
   "display_name": "Python 3",
   "language": "python",
   "name": "python3"
  },
  "language_info": {
   "codemirror_mode": {
    "name": "ipython",
    "version": 3
   },
   "file_extension": ".py",
   "mimetype": "text/x-python",
   "name": "python",
   "nbconvert_exporter": "python",
   "pygments_lexer": "ipython3",
   "version": "3.6.6"
  }
 },
 "nbformat": 4,
 "nbformat_minor": 2
}
