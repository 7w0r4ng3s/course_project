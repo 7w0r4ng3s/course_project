{
 "cells": [
  {
   "cell_type": "code",
   "execution_count": 1,
   "metadata": {},
   "outputs": [],
   "source": [
    "# so far only works with subjects with all lower, upper, and graduate \n",
    "# or the index out of range error will happen in code block 6\n",
    "import urllib.request\n",
    "from bs4 import BeautifulSoup\n",
    "import csv\n",
    "import os"
   ]
  },
  {
   "cell_type": "code",
   "execution_count": 2,
   "metadata": {},
   "outputs": [],
   "source": [
    "# url of ucsc computer science courses & description page\n",
    "url = 'https://registrar.ucsc.edu/catalog/programs-courses/course-descriptions/cmps.html'\n",
    "# read the url and parse the page using BeautifulSoup html parser\n",
    "page = urllib.request.urlopen(url)\n",
    "soup = BeautifulSoup(page, 'html.parser')\n",
    "# get the div of course title and description\n",
    "course = str(soup.find('div', attrs={'class':'content contentBox'}))\n",
    "course_type = url[url.find('course-descriptions/')+20:url.find('.html')]\n",
    "course = course.replace('\\n', '')"
   ]
  },
  {
   "cell_type": "code",
   "execution_count": 3,
   "metadata": {
    "scrolled": true
   },
   "outputs": [],
   "source": [
    "def remove_html_tags(text):\n",
    "    \"\"\"Remove html tags from a string\"\"\"\n",
    "    import re\n",
    "    clean = re.compile('<.*?>')\n",
    "    return re.sub(clean, '', text)"
   ]
  },
  {
   "cell_type": "code",
   "execution_count": 4,
   "metadata": {},
   "outputs": [],
   "source": [
    "# divide the string into lower/upper/graduate class and remove useless title\n",
    "# which os course_dic[0]\n",
    "course_div = course.split('<h2>')"
   ]
  },
  {
   "cell_type": "code",
   "execution_count": 5,
   "metadata": {},
   "outputs": [],
   "source": [
    "course_div = course_div[1:]"
   ]
  },
  {
   "cell_type": "code",
   "execution_count": 6,
   "metadata": {
    "scrolled": true
   },
   "outputs": [],
   "source": [
    "# lower division courses\n",
    "lower_div = course_div[0].split('</h2>')\n",
    "lower_div[1] = lower_div[1].split('<br/> <br/>')\n",
    "# upper division courses\n",
    "upper_div = course_div[1].split('</h2>')\n",
    "upper_div[1] = upper_div[1].split('<br/> <br/>')\n",
    "# graduate courses\n",
    "graduate = course_div[2].split('</h2>')\n",
    "graduate[1] = graduate[1].split('<br/> <br/>')"
   ]
  },
  {
   "cell_type": "code",
   "execution_count": 7,
   "metadata": {},
   "outputs": [],
   "source": [
    "lower_list = lower_div[1]\n",
    "upper_list = upper_div[1]\n",
    "graduate_list = graduate[1]"
   ]
  },
  {
   "cell_type": "code",
   "execution_count": 8,
   "metadata": {},
   "outputs": [],
   "source": [
    "for i in range(len(lower_list)):\n",
    "    lower_list[i] = remove_html_tags(lower_list[i]).lstrip()\n",
    "    \n",
    "for i in range(len(upper_list)):\n",
    "    upper_list[i] = remove_html_tags(upper_list[i]).lstrip()\n",
    "    \n",
    "for i in range(len(graduate_list)):\n",
    "    graduate_list[i] = remove_html_tags(graduate_list[i]).lstrip()"
   ]
  },
  {
   "cell_type": "code",
   "execution_count": 9,
   "metadata": {},
   "outputs": [
    {
     "name": "stdout",
     "output_type": "stream",
     "text": [
      "Lower division: 24 courses\n",
      "Upper division: 56 courses\n",
      "Graduate: 59 course\n"
     ]
    }
   ],
   "source": [
    "print(f'Lower division: {len(lower_list)} courses')\n",
    "print(f'Upper division: {len(upper_list)} courses')\n",
    "print(f'Graduate: {len(graduate_list)} course')"
   ]
  },
  {
   "cell_type": "code",
   "execution_count": 10,
   "metadata": {},
   "outputs": [],
   "source": [
    "lower_title = [i[:i.find('  ')] for i in lower_list]\n",
    "lower_des = [i[i.find('  '):].lstrip() for i in lower_list]\n",
    "assert len(lower_title) == len(lower_des)\n",
    "\n",
    "upper_title = [i[:i.find('  ')] for i in upper_list]\n",
    "upper_des = [i[i.find('  '):].lstrip() for i in upper_list]\n",
    "assert len(upper_title) == len(upper_des)\n",
    "\n",
    "graduate_title = [i[:i.find('  ')] for i in graduate_list]\n",
    "graduate_des = [i[i.find('  '):].lstrip() for i in graduate_list]\n",
    "assert len(graduate_title) == len(graduate_des)"
   ]
  },
  {
   "cell_type": "code",
   "execution_count": 11,
   "metadata": {},
   "outputs": [],
   "source": [
    "def make_dict(title, description):\n",
    "    return dict(zip(title, description))"
   ]
  },
  {
   "cell_type": "code",
   "execution_count": 12,
   "metadata": {},
   "outputs": [],
   "source": [
    "lower_dict = make_dict(lower_title, lower_des)\n",
    "upper_dict = make_dict(upper_title, upper_des)\n",
    "graduate_dict = make_dict(graduate_title, graduate_des)"
   ]
  },
  {
   "cell_type": "code",
   "execution_count": 13,
   "metadata": {},
   "outputs": [],
   "source": [
    "def write_csv(dictionary, name):\n",
    "    with open(f'{name}.csv', 'w') as csv_file:\n",
    "        writer = csv.writer(csv_file)\n",
    "        for key, value in dictionary.items():\n",
    "            writer.writerow([key, value])"
   ]
  },
  {
   "cell_type": "code",
   "execution_count": 14,
   "metadata": {},
   "outputs": [],
   "source": [
    "os.chdir('courses')\n",
    "os.mkdir(course_type)\n",
    "os.chdir(course_type)\n",
    "write_csv(lower_dict, 'lower_div')\n",
    "write_csv(upper_dict, 'upper_div')\n",
    "write_csv(graduate_dict, 'graduate')"
   ]
  },
  {
   "cell_type": "code",
   "execution_count": null,
   "metadata": {},
   "outputs": [],
   "source": []
  }
 ],
 "metadata": {
  "kernelspec": {
   "display_name": "Python 3",
   "language": "python",
   "name": "python3"
  },
  "language_info": {
   "codemirror_mode": {
    "name": "ipython",
    "version": 3
   },
   "file_extension": ".py",
   "mimetype": "text/x-python",
   "name": "python",
   "nbconvert_exporter": "python",
   "pygments_lexer": "ipython3",
   "version": "3.6.7"
  }
 },
 "nbformat": 4,
 "nbformat_minor": 2
}
